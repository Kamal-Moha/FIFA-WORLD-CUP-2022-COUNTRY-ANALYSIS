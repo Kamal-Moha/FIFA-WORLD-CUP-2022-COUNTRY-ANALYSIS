{
  "nbformat": 4,
  "nbformat_minor": 0,
  "metadata": {
    "colab": {
      "provenance": [],
      "mount_file_id": "1zh-3faAyeete_9dnQJl7TQ1rdztXmtqP",
      "authorship_tag": "ABX9TyNAshGGLe+aIEG18zNi4bJY",
      "include_colab_link": true
    },
    "kernelspec": {
      "name": "python3",
      "display_name": "Python 3"
    },
    "language_info": {
      "name": "python"
    }
  },
  "cells": [
    {
      "cell_type": "markdown",
      "metadata": {
        "id": "view-in-github",
        "colab_type": "text"
      },
      "source": [
        "<a href=\"https://colab.research.google.com/github/Kamal-Moha/FIFA-WORLD-CUP-2022-COUNTRY-ANALYSIS/blob/main/FIFA_WORLD_CUP_2022_ANALYSIS.ipynb\" target=\"_parent\"><img src=\"https://colab.research.google.com/assets/colab-badge.svg\" alt=\"Open In Colab\"/></a>"
      ]
    },
    {
      "cell_type": "code",
      "source": [
        "!pip install termcolor"
      ],
      "metadata": {
        "colab": {
          "base_uri": "https://localhost:8080/"
        },
        "id": "1ClyB8Di5Na7",
        "outputId": "b453324b-e378-49ca-a57e-9a543ffac7d1"
      },
      "execution_count": 7,
      "outputs": [
        {
          "output_type": "stream",
          "name": "stdout",
          "text": [
            "Looking in indexes: https://pypi.org/simple, https://us-python.pkg.dev/colab-wheels/public/simple/\n",
            "Requirement already satisfied: termcolor in /usr/local/lib/python3.8/dist-packages (2.2.0)\n"
          ]
        }
      ]
    },
    {
      "cell_type": "code",
      "execution_count": 9,
      "metadata": {
        "id": "XrdoEAme8R7_"
      },
      "outputs": [],
      "source": [
        "import pandas as pd"
      ]
    },
    {
      "cell_type": "code",
      "source": [
        "from termcolor import colored"
      ],
      "metadata": {
        "id": "2NSH7BN6VlVn"
      },
      "execution_count": 8,
      "outputs": []
    },
    {
      "cell_type": "code",
      "source": [
        "filename = '/content/drive/MyDrive/SOCCER PROJECTS/FIFA WORLD CUP 2022/FIFA Club World Club 2022 Dataset - Sheet1.csv'"
      ],
      "metadata": {
        "id": "fxucmxmv8aVL"
      },
      "execution_count": 10,
      "outputs": []
    },
    {
      "cell_type": "code",
      "source": [
        "df = pd.read_csv(filename)"
      ],
      "metadata": {
        "id": "YTVfJCke8aXC"
      },
      "execution_count": 11,
      "outputs": []
    },
    {
      "cell_type": "code",
      "source": [
        "# Asking the user for the country to search\n",
        "country = input('What country do you want to search: ').upper()\n",
        "\n",
        "# Creating a df that searches for the searched country in our dataset\n",
        "country_df = df[['team1', 'team2', 'number of goals team1', 'number of goals team2', 'category']].loc[(df['team1'] == country) | (df['team2'] == country)]\n",
        "\n",
        "# Knowing which side our searched country is at\n",
        "side1 = ['number of goals team1' if country in k['team1'] else 'number of goals team2' for i,k in country_df.iterrows()]\n",
        "opp_info = []\n",
        "\n",
        "#Looping through to find out info for the opposition side \n",
        "for i in side1:\n",
        "  if i == 'number of goals team1':\n",
        "    opp_info.append('number of goals team2')\n",
        "  elif i == 'number of goals team2':\n",
        "    opp_info.append('number of goals team1')\n",
        "\n",
        "result = []\n",
        "\n",
        "for p,m in enumerate(side1):\n",
        "  # subtracting the goals scored by opposition country from goals scored by searched country\n",
        "  ans = country_df[m].iloc[p] - country_df[opp_info[p]].iloc[p]\n",
        "  # Creating a game_status variables that checks if the searched country has lost or won the game\n",
        "  game_status = colored('W', 'green') if ans>0 else colored('D', 'yellow') if ans==0 else colored('L', 'red')\n",
        "  # appending game status variable into result list\n",
        "  result.append(game_status)\n",
        "\n",
        "# Creating a new column in our country_df that shows the result of the game\n",
        "country_df.insert(5, 'Result', result)\n",
        "print(country_df)\n"
      ],
      "metadata": {
        "colab": {
          "base_uri": "https://localhost:8080/"
        },
        "id": "w_db7cm18aZl",
        "outputId": "9530379c-5b4e-42a3-9b64-8ee6e49b35ea"
      },
      "execution_count": 13,
      "outputs": [
        {
          "output_type": "stream",
          "name": "stdout",
          "text": [
            "What country do you want to search: Senegal\n",
            "      team1        team2  number of goals team1  number of goals team2  \\\n",
            "2   SENEGAL  NETHERLANDS                      0                      2   \n",
            "17    QATAR      SENEGAL                      1                      3   \n",
            "33  ECUADOR      SENEGAL                      1                      2   \n",
            "51  ENGLAND      SENEGAL                      3                      0   \n",
            "\n",
            "       category Result  \n",
            "2       Group A      L  \n",
            "17      Group A      W  \n",
            "33      Group A      W  \n",
            "51  Round of 16      L  \n"
          ]
        }
      ]
    },
    {
      "cell_type": "code",
      "source": [],
      "metadata": {
        "id": "lX4mUeh25J3L"
      },
      "execution_count": null,
      "outputs": []
    },
    {
      "cell_type": "code",
      "source": [],
      "metadata": {
        "id": "DrD_cEHF8ac2"
      },
      "execution_count": null,
      "outputs": []
    },
    {
      "cell_type": "code",
      "source": [],
      "metadata": {
        "id": "UHwvTKZb8ag6"
      },
      "execution_count": null,
      "outputs": []
    }
  ]
}